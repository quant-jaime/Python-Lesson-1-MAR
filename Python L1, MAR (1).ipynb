{
 "cells": [
  {
   "cell_type": "code",
   "execution_count": 1,
   "metadata": {},
   "outputs": [],
   "source": [
    "import pandas as pd \n",
    "import numpy as np \n",
    "import matplotlib.pyplot as plt \n"
   ]
  },
  {
   "cell_type": "code",
   "execution_count": 4,
   "metadata": {},
   "outputs": [
    {
     "data": {
      "text/plain": [
       "'Feb'"
      ]
     },
     "execution_count": 4,
     "metadata": {},
     "output_type": "execute_result"
    }
   ],
   "source": [
    "months = ['Jan', 'Feb', 'March', 'April', 'May', 'June', 'July', 'Aug',\n",
    "         'Sept', 'Oct','Nov', 'Dec']\n",
    "len(months)\n",
    "months[1]"
   ]
  },
  {
   "cell_type": "code",
   "execution_count": 8,
   "metadata": {},
   "outputs": [
    {
     "name": "stdout",
     "output_type": "stream",
     "text": [
      "['Oct', 'Nov', 'Dec']\n"
     ]
    }
   ],
   "source": [
    "print(months[9:])"
   ]
  },
  {
   "cell_type": "code",
   "execution_count": 9,
   "metadata": {},
   "outputs": [
    {
     "data": {
      "text/plain": [
       "True"
      ]
     },
     "execution_count": 9,
     "metadata": {},
     "output_type": "execute_result"
    }
   ],
   "source": [
    "#using 'in' or 'not in ' function \n",
    "\n",
    "'Dec' in months"
   ]
  },
  {
   "cell_type": "code",
   "execution_count": 11,
   "metadata": {},
   "outputs": [
    {
     "data": {
      "text/plain": [
       "False"
      ]
     },
     "execution_count": 11,
     "metadata": {},
     "output_type": "execute_result"
    }
   ],
   "source": [
    "'Sunday' in months"
   ]
  },
  {
   "cell_type": "code",
   "execution_count": 12,
   "metadata": {},
   "outputs": [
    {
     "data": {
      "text/plain": [
       "True"
      ]
     },
     "execution_count": 12,
     "metadata": {},
     "output_type": "execute_result"
    }
   ],
   "source": [
    "'Jan' in months"
   ]
  },
  {
   "cell_type": "code",
   "execution_count": 13,
   "metadata": {},
   "outputs": [
    {
     "data": {
      "text/plain": [
       "True"
      ]
     },
     "execution_count": 13,
     "metadata": {},
     "output_type": "execute_result"
    }
   ],
   "source": [
    "'Sunday' not in months"
   ]
  },
  {
   "cell_type": "code",
   "execution_count": 14,
   "metadata": {},
   "outputs": [
    {
     "data": {
      "text/plain": [
       "False"
      ]
     },
     "execution_count": 14,
     "metadata": {},
     "output_type": "execute_result"
    }
   ],
   "source": [
    "'Feb' not in months"
   ]
  },
  {
   "cell_type": "code",
   "execution_count": 25,
   "metadata": {},
   "outputs": [
    {
     "name": "stdout",
     "output_type": "stream",
     "text": [
      "['one', 'two', 'three', 4, 5, 6, 7, 8, 9, 0]\n",
      "~~~~~~~~~~~~~~~~~~~~~~~~~~~~~~~~~~~~~~~~~~~~~\n",
      "[11, 'twelve', 13, 14]\n"
     ]
    }
   ],
   "source": [
    "my_list = [1,2,3,4,5,6,7,8,9,0]\n",
    "my_list[0:3] = 'one', 'two', 'three'\n",
    "print(my_list)\n",
    "my_list2 = [11,12,13,14]\n",
    "my_list2[1] = 'twelve'\n",
    "print(\"~~~~~~~~~~~~~~~~~~~~~~~~~~~~~~~~~~~~~~~~~~~~~\")\n",
    "print(my_list2)"
   ]
  },
  {
   "cell_type": "code",
   "execution_count": 27,
   "metadata": {},
   "outputs": [
    {
     "ename": "TypeError",
     "evalue": "'str' object does not support item assignment",
     "output_type": "error",
     "traceback": [
      "\u001b[0;31m---------------------------------------------------------------------------\u001b[0m",
      "\u001b[0;31mTypeError\u001b[0m                                 Traceback (most recent call last)",
      "\u001b[0;32m<ipython-input-27-4aceb9da320b>\u001b[0m in \u001b[0;36m<module>\u001b[0;34m()\u001b[0m\n\u001b[1;32m      1\u001b[0m \u001b[0mgreetings\u001b[0m \u001b[0;34m=\u001b[0m \u001b[0;34m\"Hello there\"\u001b[0m\u001b[0;34m\u001b[0m\u001b[0m\n\u001b[0;32m----> 2\u001b[0;31m \u001b[0mgreetings\u001b[0m\u001b[0;34m[\u001b[0m\u001b[0;36m0\u001b[0m\u001b[0;34m]\u001b[0m \u001b[0;34m=\u001b[0m \u001b[0;34m'M'\u001b[0m\u001b[0;34m\u001b[0m\u001b[0m\n\u001b[0m",
      "\u001b[0;31mTypeError\u001b[0m: 'str' object does not support item assignment"
     ]
    }
   ],
   "source": [
    "greetings = \"Hello there\"\n",
    "greetings[0] = 'M'"
   ]
  },
  {
   "cell_type": "code",
   "execution_count": 31,
   "metadata": {},
   "outputs": [
    {
     "name": "stdout",
     "output_type": "stream",
     "text": [
      "90\n"
     ]
    }
   ],
   "source": [
    "months = 8 \n",
    "days_in_months = [31,28,31,30,31,30,31,31,80,90,30,31]\n",
    "\n",
    "num_days = days_in_months[months +1]\n",
    "print(num_days)"
   ]
  },
  {
   "cell_type": "code",
   "execution_count": 41,
   "metadata": {},
   "outputs": [
    {
     "name": "stdout",
     "output_type": "stream",
     "text": [
      "scores: ['B', 'C', 'A', 'D', 'B', 'A']\n",
      "grades:['B', 'C', 'A', 'D', 'B', 'A']\n"
     ]
    },
    {
     "data": {
      "text/plain": [
       "'D'"
      ]
     },
     "execution_count": 41,
     "metadata": {},
     "output_type": "execute_result"
    }
   ],
   "source": [
    "scores = ['B', 'C', 'A', 'D', 'B', 'A']\n",
    "grades = scores\n",
    "scores[3]: 'B'\n",
    "print(\"scores: \" + str(scores))\n",
    "print('grades:' + str(grades))\n",
    "max(scores)"
   ]
  },
  {
   "cell_type": "code",
   "execution_count": 43,
   "metadata": {},
   "outputs": [
    {
     "name": "stdout",
     "output_type": "stream",
     "text": [
      "232342\n"
     ]
    }
   ],
   "source": [
    "batch = [1,2,3,4,5,6,2,23,4,232342]\n",
    "print(max(batch))"
   ]
  },
  {
   "cell_type": "code",
   "execution_count": 50,
   "metadata": {},
   "outputs": [
    {
     "name": "stdout",
     "output_type": "stream",
     "text": [
      "[1, 2, 2, 2, 2, 3, 3, 3, 3, 4, 5, 5, 6, 6, 7, 8, 9, 35, 442, 524, 666664]\n",
      "['a', 'c', 'd', 'e', 'f', 'z']\n",
      "[1, 2, 2, 2, 2, 3, 3, 3, 3, 4, 5, 5, 6, 6, 7, 8, 9, 35, 442, 524, 666664]\n",
      "['z', 'f', 'e', 'd', 'c', 'a']\n"
     ]
    }
   ],
   "source": [
    "numbers = [1,2,3,4,2,7,2,3,524,6,8,9,442,3,5,666664,3,2,35,5,6]\n",
    "print(sorted(numbers))\n",
    "\n",
    "alpha = ['a','z','c','d','f','e']\n",
    "print(sorted(alpha))\n",
    "print(sorted(numbers, reverse = False))\n",
    "print(sorted(alpha, reverse = True))"
   ]
  },
  {
   "cell_type": "code",
   "execution_count": 53,
   "metadata": {},
   "outputs": [
    {
     "name": "stdout",
     "output_type": "stream",
     "text": [
      "Jaime-Flor-Figueroa\n"
     ]
    }
   ],
   "source": [
    "full_name = ['Jaime', 'Flor', 'Figueroa']\n",
    "print('-'.join(full_name))"
   ]
  },
  {
   "cell_type": "code",
   "execution_count": 58,
   "metadata": {},
   "outputs": [
    {
     "name": "stdout",
     "output_type": "stream",
     "text": [
      "9826 Gabon Ct Burke VA\n"
     ]
    }
   ],
   "source": [
    "address = ['9826', 'Gabon Ct', 'Burke', 'VA', '22015']\n",
    "print(' '.join(address[0:4]))"
   ]
  },
  {
   "cell_type": "code",
   "execution_count": 62,
   "metadata": {},
   "outputs": [
    {
     "name": "stdout",
     "output_type": "stream",
     "text": [
      "['cob', 'econ', 'finance', 'quant-fin']\n"
     ]
    }
   ],
   "source": [
    "jmu = ['cob', 'quant-fin', 'econ']\n",
    "jmu.append('finance')\n",
    "print(sorted(jmu))"
   ]
  },
  {
   "cell_type": "code",
   "execution_count": 67,
   "metadata": {},
   "outputs": [
    {
     "name": "stdout",
     "output_type": "stream",
     "text": [
      "<class 'tuple'>\n",
      "Jaime's home address number is: 9826\n",
      "Jaime's neighbors home adress number is: 9828\n"
     ]
    }
   ],
   "source": [
    "number = (9826, 9828)\n",
    "print(type(number))\n",
    "print(\"Jaime's home address number is: {}\".format(number[0]))\n",
    "print(\"Jaime's neighbors home adress number is: {}\".format(number[1]))"
   ]
  },
  {
   "cell_type": "code",
   "execution_count": 68,
   "metadata": {},
   "outputs": [
    {
     "name": "stdout",
     "output_type": "stream",
     "text": [
      "(52, 40, 100)\n"
     ]
    }
   ],
   "source": [
    "dimensions = (52, 40, 100)\n",
    "length, width, height = dimensions\n",
    "print(dimensions)"
   ]
  },
  {
   "cell_type": "code",
   "execution_count": 72,
   "metadata": {},
   "outputs": [
    {
     "name": "stdout",
     "output_type": "stream",
     "text": [
      "The dimensions are 52x40x100\n"
     ]
    }
   ],
   "source": [
    "print(\"The dimensions are {}x{}x{}\".format(length, width, height))\n"
   ]
  },
  {
   "cell_type": "code",
   "execution_count": 75,
   "metadata": {},
   "outputs": [
    {
     "name": "stdout",
     "output_type": "stream",
     "text": [
      "True\n",
      "2\n",
      "1\n"
     ]
    }
   ],
   "source": [
    "tuple_a = 1,2\n",
    "tuple_b = (1,2)\n",
    "print(tuple_a == tuple_b)\n",
    "print(tuple_a[1])\n",
    "print(tuple_b[0])"
   ]
  },
  {
   "cell_type": "code",
   "execution_count": 78,
   "metadata": {},
   "outputs": [
    {
     "name": "stdout",
     "output_type": "stream",
     "text": [
      "{'Bolivia', 'Chile', 'Argentina', 'USA', 'Lebanon'}\n",
      "5\n"
     ]
    }
   ],
   "source": [
    "### extracting elements in a single element (removing duplicates)\n",
    "## also tells you the # of elemets after removing duplicates \n",
    "\n",
    "countries = ['Bolivia', 'Argentina', 'Chile', 'Lebanon', 'USA', 'Chile',\n",
    "            'Chile', 'USA']\n",
    "\n",
    "country_set = set(countries)\n",
    "print(country_set)\n",
    "print(len(country_set))"
   ]
  },
  {
   "cell_type": "code",
   "execution_count": 79,
   "metadata": {},
   "outputs": [
    {
     "name": "stdout",
     "output_type": "stream",
     "text": [
      "False\n"
     ]
    }
   ],
   "source": [
    "print('India' in countries)"
   ]
  },
  {
   "cell_type": "code",
   "execution_count": 80,
   "metadata": {},
   "outputs": [
    {
     "name": "stdout",
     "output_type": "stream",
     "text": [
      "True\n"
     ]
    }
   ],
   "source": [
    "print('Chile' in country_set)"
   ]
  },
  {
   "cell_type": "code",
   "execution_count": 81,
   "metadata": {},
   "outputs": [
    {
     "name": "stdout",
     "output_type": "stream",
     "text": [
      "{1, 2, 3, 6}\n"
     ]
    }
   ],
   "source": [
    "numbers = [1,2,6,3,1,1,6]\n",
    "unique_numbs = set(numbers)\n",
    "print(unique_numbs)"
   ]
  },
  {
   "cell_type": "code",
   "execution_count": 100,
   "metadata": {},
   "outputs": [
    {
     "name": "stdout",
     "output_type": "stream",
     "text": [
      "False\n",
      "{'FB', 'AAPL', 'AMAZON', 'MU', 'NFLX', 'GOOGL'}\n",
      "FB\n",
      "{'AAPL', 'AMAZON', 'MU', 'NFLX', 'GOOGL'}\n"
     ]
    }
   ],
   "source": [
    "ticker = {'AAPL', 'NFLX', 'AMAZON', 'GOOGL', 'FB'}\n",
    "print('MU' in ticker)\n",
    "\n",
    "ticker.add('MU')\n",
    "print(ticker)\n",
    "\n",
    "print(ticker.pop())\n",
    "\n",
    "\n",
    "print(ticker)\n"
   ]
  },
  {
   "cell_type": "code",
   "execution_count": 108,
   "metadata": {},
   "outputs": [
    {
     "name": "stdout",
     "output_type": "stream",
     "text": [
      "54\n",
      "True\n",
      "{'AAPL': 156, 'AMZN': 1800, 'MU': 54, 'AMD': 3}\n",
      "False\n",
      "None\n",
      "True\n",
      "False\n"
     ]
    }
   ],
   "source": [
    "tickers = {'AAPL': 156, 'AMZN': 1800, 'MU': 54}\n",
    "\n",
    "print(tickers['MU'])\n",
    "tickers['AMD'] = 3\n",
    "\n",
    "print('AMD' in tickers)\n",
    "print(tickers)\n",
    "print('NVDA' in tickers)\n",
    "print(tickers.get('FB'))\n",
    "\n",
    "n = tickers.get('FB')\n",
    "\n",
    "print(n is None)\n",
    "print(n is not None)\n"
   ]
  },
  {
   "cell_type": "code",
   "execution_count": 109,
   "metadata": {},
   "outputs": [
    {
     "name": "stdout",
     "output_type": "stream",
     "text": [
      "<class 'dict'>\n"
     ]
    }
   ],
   "source": [
    "# Define a Dictionary, population,\n",
    "# that provides information\n",
    "# on the world's largest cities.\n",
    "# The key is the name of a city\n",
    "# (a string), and the associated\n",
    "# value is its population in\n",
    "# millions of people.\n",
    "population = {'Shanghai': 17.8, 'Istanbul': 13.3, 'Karachi': 13.0, 'Mumbai': 12.5}\n",
    "#   Key     |   Value\n",
    "# Shanghai  |   17.8\n",
    "# Istanbul  |   13.3\n",
    "# Karachi   |   13.0\n",
    "# Mumbai    |   12.5\n",
    "print(type(population))"
   ]
  },
  {
   "cell_type": "code",
   "execution_count": 110,
   "metadata": {},
   "outputs": [],
   "source": [
    "animals = {'dogs': [20, 10, 15, 8, 32, 15], 'cats': [3,4,2,8,2,4], 'rabbits': [2, 3, 3], 'fish': [0.3, 0.5, 0.8, 0.3, 1]}\n",
    "\n"
   ]
  },
  {
   "cell_type": "code",
   "execution_count": 111,
   "metadata": {},
   "outputs": [
    {
     "name": "stdout",
     "output_type": "stream",
     "text": [
      "[20, 10, 15, 8, 32, 15]\n"
     ]
    }
   ],
   "source": [
    "print(animals['dogs'])"
   ]
  },
  {
   "cell_type": "code",
   "execution_count": 112,
   "metadata": {},
   "outputs": [
    {
     "name": "stdout",
     "output_type": "stream",
     "text": [
      "8\n"
     ]
    }
   ],
   "source": [
    "print(animals['dogs'][3])"
   ]
  },
  {
   "cell_type": "code",
   "execution_count": 114,
   "metadata": {},
   "outputs": [
    {
     "name": "stdout",
     "output_type": "stream",
     "text": [
      "[0.3, 0.5, 0.8, 0.3, 1]\n"
     ]
    }
   ],
   "source": [
    "print(animals['fish'])"
   ]
  },
  {
   "cell_type": "code",
   "execution_count": 115,
   "metadata": {},
   "outputs": [],
   "source": [
    "VINIX = {'C': [0.74, -6.51],  'MA': [0.78, 34.77],  'BA': [0.79, 17.01],  'PG': [0.85, -8.81],  'CSCO': [0.88, 18.56],  'VZ': [0.9, 2.16],  'PFE': [0.92, 13.96],  'HD': [0.97, 3.2],  'INTC': [1.0, 2.61],  'T': [1.01, -15.19],  'V': [1.02, 24.0],  'UNH': [1.02, 19.32],  'WFC': [1.05, -3.59],  'CVX': [1.05, -5.77],  'BAC': [1.15, 4.27],  'JNJ': [1.41, -5.58],  'GOOGL': [1.46, 17.84],  'GOOG': [1.47, 17.03],  'BRK.B': [1.5, 4.54],  'XOM': [1.52, -6.87],  'JPM': [1.53, 7.66],  'FB': [2.02, 0.91], 'AMZN': [2.96, 62.75], 'MSFT': [3.28, 26.61], 'AAPL': [3.94, 26.01]}\n"
   ]
  },
  {
   "cell_type": "code",
   "execution_count": 116,
   "metadata": {},
   "outputs": [
    {
     "name": "stdout",
     "output_type": "stream",
     "text": [
      "{'C': [0.74, -6.51], 'MA': [0.78, 34.77], 'BA': [0.79, 17.01], 'PG': [0.85, -8.81], 'CSCO': [0.88, 18.56], 'VZ': [0.9, 2.16], 'PFE': [0.92, 13.96], 'HD': [0.97, 3.2], 'INTC': [1.0, 2.61], 'T': [1.01, -15.19], 'V': [1.02, 24.0], 'UNH': [1.02, 19.32], 'WFC': [1.05, -3.59], 'CVX': [1.05, -5.77], 'BAC': [1.15, 4.27], 'JNJ': [1.41, -5.58], 'GOOGL': [1.46, 17.84], 'GOOG': [1.47, 17.03], 'BRK.B': [1.5, 4.54], 'XOM': [1.52, -6.87], 'JPM': [1.53, 7.66], 'FB': [2.02, 0.91], 'AMZN': [2.96, 62.75], 'MSFT': [3.28, 26.61], 'AAPL': [3.94, 26.01]}\n"
     ]
    }
   ],
   "source": [
    "print(VINIX)"
   ]
  },
  {
   "cell_type": "code",
   "execution_count": 122,
   "metadata": {},
   "outputs": [
    {
     "name": "stdout",
     "output_type": "stream",
     "text": [
      "100000\n"
     ]
    }
   ],
   "source": [
    "tickers = {'AAPL':{'Price': 158,\n",
    "                   'Volume': 100000,\n",
    "                   'Adj-Close': 159},\n",
    "           'FB': {'Price': 207,\n",
    "                  'Volume': 123000,\n",
    "                  'Adj-Close':208}}\n",
    "\n",
    "print(tickers['AAPL']['Volume'])"
   ]
  },
  {
   "cell_type": "code",
   "execution_count": 123,
   "metadata": {},
   "outputs": [
    {
     "name": "stdout",
     "output_type": "stream",
     "text": [
      "207\n",
      "159\n"
     ]
    }
   ],
   "source": [
    "print(tickers['FB']['Price'])\n",
    "print(tickers['AAPL']['Adj-Close'])"
   ]
  },
  {
   "cell_type": "code",
   "execution_count": 124,
   "metadata": {},
   "outputs": [
    {
     "name": "stdout",
     "output_type": "stream",
     "text": [
      "if you can keep your head when all about you are losing theirs and blaming it on you   if you can trust yourself when all men doubt you     but make allowance for their doubting too   if you can wait and not be tired by waiting      or being lied about  don’t deal in lies   or being hated  don’t give way to hating      and yet don’t look too good  nor talk too wise \n",
      "\n",
      "['if', 'you', 'can', 'keep', 'your', 'head', 'when', 'all', 'about', 'you', 'are', 'losing', 'theirs', 'and', 'blaming', 'it', 'on', 'you', 'if', 'you', 'can', 'trust', 'yourself', 'when', 'all', 'men', 'doubt', 'you', 'but', 'make', 'allowance', 'for', 'their', 'doubting', 'too', 'if', 'you', 'can', 'wait', 'and', 'not', 'be', 'tired', 'by', 'waiting', 'or', 'being', 'lied', 'about', 'don’t', 'deal', 'in', 'lies', 'or', 'being', 'hated', 'don’t', 'give', 'way', 'to', 'hating', 'and', 'yet', 'don’t', 'look', 'too', 'good', 'nor', 'talk', 'too', 'wise'] \n",
      "\n",
      "{'yourself', 'keep', 'on', 'allowance', 'not', 'tired', 'can', 'hating', 'waiting', 'theirs', 'doubt', 'deal', 'men', 'in', 'be', 'way', 'blaming', 'wait', 'it', 'to', 'good', 'when', 'all', 'doubting', 'or', 'and', 'losing', 'nor', 'lies', 'are', 'make', 'by', 'about', 'trust', 'but', 'head', 'wise', 'being', 'don’t', 'hated', 'talk', 'yet', 'look', 'your', 'if', 'lied', 'for', 'their', 'too', 'you', 'give'} \n",
      "\n",
      "51 \n",
      "\n"
     ]
    }
   ],
   "source": [
    "verse = \"if you can keep your head when all about you are losing theirs and blaming it on you   if you can trust yourself when all men doubt you     but make allowance for their doubting too   if you can wait and not be tired by waiting      or being lied about  don’t deal in lies   or being hated  don’t give way to hating      and yet don’t look too good  nor talk too wise\"\n",
    "print(verse, '\\n')\n",
    "\n",
    "# split verse into list of words\n",
    "verse_list = verse.split()\n",
    "print(verse_list, '\\n')\n",
    "\n",
    "# convert list to a data structure that stores unique elements\n",
    "verse_set = set(verse_list)\n",
    "print(verse_set, '\\n')\n",
    "\n",
    "# print the number of unique words\n",
    "num_unique = len(verse_set)\n",
    "print(num_unique, '\\n')"
   ]
  },
  {
   "cell_type": "code",
   "execution_count": null,
   "metadata": {},
   "outputs": [],
   "source": []
  }
 ],
 "metadata": {
  "kernelspec": {
   "display_name": "Python 3",
   "language": "python",
   "name": "python3"
  },
  "language_info": {
   "codemirror_mode": {
    "name": "ipython",
    "version": 3
   },
   "file_extension": ".py",
   "mimetype": "text/x-python",
   "name": "python",
   "nbconvert_exporter": "python",
   "pygments_lexer": "ipython3",
   "version": "3.7.0"
  }
 },
 "nbformat": 4,
 "nbformat_minor": 2
}
